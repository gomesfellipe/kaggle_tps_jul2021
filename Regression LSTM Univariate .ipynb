{
 "cells": [
  {
   "cell_type": "code",
   "execution_count": 1,
   "metadata": {},
   "outputs": [],
   "source": [
    "import pandas as pd\n",
    "import numpy as np\n",
    "\n",
    "from keras.models import Sequential\n",
    "from keras.layers import Dense\n",
    "from keras.layers import LSTM\n",
    "\n",
    "from sklearn.metrics import mean_squared_log_error, mean_squared_error"
   ]
  },
  {
   "cell_type": "code",
   "execution_count": 2,
   "metadata": {},
   "outputs": [],
   "source": [
    "train = pd.read_csv('train.csv')"
   ]
  },
  {
   "cell_type": "code",
   "execution_count": 3,
   "metadata": {},
   "outputs": [],
   "source": [
    "def prepare_data(x, to_remove=None):\n",
    "    x.date_time = pd.to_datetime(x['date_time'])\n",
    "    x = pd.concat([x.loc[:, ['target_carbon_monoxide', \n",
    "                             'target_benzene',\n",
    "                             'target_nitrogen_oxides']], \n",
    "                  x.iloc[:, :-3]], axis=1)\n",
    "    x = x.sort_values('date_time')\n",
    "    x = x.set_index('date_time')\n",
    "        \n",
    "    return x"
   ]
  },
  {
   "cell_type": "code",
   "execution_count": 4,
   "metadata": {},
   "outputs": [],
   "source": [
    "dataset = prepare_data(train).drop(['target_benzene', 'target_nitrogen_oxides'], axis=1)"
   ]
  },
  {
   "cell_type": "code",
   "execution_count": 5,
   "metadata": {},
   "outputs": [
    {
     "data": {
      "text/html": [
       "<div>\n",
       "<style scoped>\n",
       "    .dataframe tbody tr th:only-of-type {\n",
       "        vertical-align: middle;\n",
       "    }\n",
       "\n",
       "    .dataframe tbody tr th {\n",
       "        vertical-align: top;\n",
       "    }\n",
       "\n",
       "    .dataframe thead th {\n",
       "        text-align: right;\n",
       "    }\n",
       "</style>\n",
       "<table border=\"1\" class=\"dataframe\">\n",
       "  <thead>\n",
       "    <tr style=\"text-align: right;\">\n",
       "      <th></th>\n",
       "      <th>target_carbon_monoxide</th>\n",
       "      <th>deg_C</th>\n",
       "      <th>relative_humidity</th>\n",
       "      <th>absolute_humidity</th>\n",
       "      <th>sensor_1</th>\n",
       "      <th>sensor_2</th>\n",
       "      <th>sensor_3</th>\n",
       "      <th>sensor_4</th>\n",
       "      <th>sensor_5</th>\n",
       "    </tr>\n",
       "    <tr>\n",
       "      <th>date_time</th>\n",
       "      <th></th>\n",
       "      <th></th>\n",
       "      <th></th>\n",
       "      <th></th>\n",
       "      <th></th>\n",
       "      <th></th>\n",
       "      <th></th>\n",
       "      <th></th>\n",
       "      <th></th>\n",
       "    </tr>\n",
       "  </thead>\n",
       "  <tbody>\n",
       "    <tr>\n",
       "      <th>2010-03-10 18:00:00</th>\n",
       "      <td>2.5</td>\n",
       "      <td>13.1</td>\n",
       "      <td>46.0</td>\n",
       "      <td>0.7578</td>\n",
       "      <td>1387.2</td>\n",
       "      <td>1087.8</td>\n",
       "      <td>1056.0</td>\n",
       "      <td>1742.8</td>\n",
       "      <td>1293.4</td>\n",
       "    </tr>\n",
       "    <tr>\n",
       "      <th>2010-03-10 19:00:00</th>\n",
       "      <td>2.1</td>\n",
       "      <td>13.2</td>\n",
       "      <td>45.3</td>\n",
       "      <td>0.7255</td>\n",
       "      <td>1279.1</td>\n",
       "      <td>888.2</td>\n",
       "      <td>1197.5</td>\n",
       "      <td>1449.9</td>\n",
       "      <td>1010.9</td>\n",
       "    </tr>\n",
       "  </tbody>\n",
       "</table>\n",
       "</div>"
      ],
      "text/plain": [
       "                     target_carbon_monoxide  deg_C  relative_humidity  \\\n",
       "date_time                                                               \n",
       "2010-03-10 18:00:00                     2.5   13.1               46.0   \n",
       "2010-03-10 19:00:00                     2.1   13.2               45.3   \n",
       "\n",
       "                     absolute_humidity  sensor_1  sensor_2  sensor_3  \\\n",
       "date_time                                                              \n",
       "2010-03-10 18:00:00             0.7578    1387.2    1087.8    1056.0   \n",
       "2010-03-10 19:00:00             0.7255    1279.1     888.2    1197.5   \n",
       "\n",
       "                     sensor_4  sensor_5  \n",
       "date_time                                \n",
       "2010-03-10 18:00:00    1742.8    1293.4  \n",
       "2010-03-10 19:00:00    1449.9    1010.9  "
      ]
     },
     "execution_count": 5,
     "metadata": {},
     "output_type": "execute_result"
    }
   ],
   "source": [
    "dataset.head(2)"
   ]
  },
  {
   "cell_type": "code",
   "execution_count": 6,
   "metadata": {},
   "outputs": [
    {
     "data": {
      "image/png": "[encoded data removed]",
      "text/plain": [
       "<Figure size 432x288 with 8 Axes>"
      ]
     },
     "metadata": {
      "needs_background": "light"
     },
     "output_type": "display_data"
    }
   ],
   "source": [
    "from matplotlib import pyplot\n",
    "# load dataset\n",
    "values = dataset.values\n",
    "# specify columns to plot\n",
    "groups = [0, 1, 2, 3, 5, 6, 7, 8]\n",
    "i = 1\n",
    "# plot each column\n",
    "pyplot.figure()\n",
    "for group in groups:\n",
    "    pyplot.subplot(len(groups), 1, i)\n",
    "    pyplot.plot(values[:, group])\n",
    "    pyplot.title(dataset.columns[group], y=0.5, loc='right')\n",
    "    i += 1\n",
    "pyplot.show()"
   ]
  },
  {
   "cell_type": "markdown",
   "metadata": {},
   "source": [
    "-----------------"
   ]
  },
  {
   "cell_type": "code",
   "execution_count": 7,
   "metadata": {},
   "outputs": [],
   "source": [
    "from pandas import read_csv\n",
    "from pandas import DataFrame\n",
    "from pandas import concat\n",
    "from sklearn.preprocessing import LabelEncoder\n",
    "from sklearn.preprocessing import MinMaxScaler\n",
    " \n",
    "# convert series to supervised learning\n",
    "def series_to_supervised(data, n_in=1, n_out=1, dropnan=True):\n",
    "    n_vars = 1 if type(data) is list else data.shape[1]\n",
    "    df = DataFrame(data)\n",
    "    cols, names = list(), list()\n",
    "    # input sequence (t-n, ... t-1)\n",
    "    for i in range(n_in, 0, -1):\n",
    "        cols.append(df.shift(i))\n",
    "        names += [('var%d(t-%d)' % (j+1, i)) for j in range(n_vars)]\n",
    "    # forecast sequence (t, t+1, ... t+n)\n",
    "    for i in range(0, n_out):\n",
    "        cols.append(df.shift(-i))\n",
    "        if i == 0:\n",
    "            names += [('var%d(t)' % (j+1)) for j in range(n_vars)]\n",
    "        else:\n",
    "            names += [('var%d(t+%d)' % (j+1, i)) for j in range(n_vars)]\n",
    "    # put it all together\n",
    "    agg = concat(cols, axis=1)\n",
    "    agg.columns = names\n",
    "    # drop rows with NaN values\n",
    "    if dropnan:\n",
    "        agg.dropna(inplace=True)\n",
    "    return agg\n",
    " \n",
    "# load dataset\n",
    "values = dataset.values\n",
    "# integer encode direction\n",
    "encoder = LabelEncoder()\n",
    "values[:,4] = encoder.fit_transform(values[:,4])\n",
    "# ensure all data is float\n",
    "values = values.astype('float32')\n",
    "# normalize features\n",
    "scaler = MinMaxScaler(feature_range=(0, 1))\n",
    "scaled = scaler.fit_transform(values)"
   ]
  },
  {
   "cell_type": "code",
   "execution_count": 8,
   "metadata": {},
   "outputs": [],
   "source": [
    "# specify the number of lag hours\n",
    "n_hours = 3\n",
    "n_features = 9\n",
    "# frame as supervised learning\n",
    "reframed = series_to_supervised(scaled, n_hours, 1)"
   ]
  },
  {
   "cell_type": "code",
   "execution_count": 9,
   "metadata": {},
   "outputs": [
    {
     "name": "stdout",
     "output_type": "stream",
     "text": [
      "(7108, 28)\n"
     ]
    },
    {
     "data": {
      "text/html": [
       "<div>\n",
       "<style scoped>\n",
       "    .dataframe tbody tr th:only-of-type {\n",
       "        vertical-align: middle;\n",
       "    }\n",
       "\n",
       "    .dataframe tbody tr th {\n",
       "        vertical-align: top;\n",
       "    }\n",
       "\n",
       "    .dataframe thead th {\n",
       "        text-align: right;\n",
       "    }\n",
       "</style>\n",
       "<table border=\"1\" class=\"dataframe\">\n",
       "  <thead>\n",
       "    <tr style=\"text-align: right;\">\n",
       "      <th></th>\n",
       "      <th>var1(t-3)</th>\n",
       "      <th>var2(t-3)</th>\n",
       "      <th>var3(t-3)</th>\n",
       "      <th>var4(t-3)</th>\n",
       "      <th>var5(t-3)</th>\n",
       "      <th>var6(t-3)</th>\n",
       "      <th>var7(t-3)</th>\n",
       "      <th>var8(t-3)</th>\n",
       "      <th>var9(t-3)</th>\n",
       "      <th>var1(t-2)</th>\n",
       "      <th>...</th>\n",
       "      <th>var1(t-1)</th>\n",
       "      <th>var2(t-1)</th>\n",
       "      <th>var3(t-1)</th>\n",
       "      <th>var4(t-1)</th>\n",
       "      <th>var5(t-1)</th>\n",
       "      <th>var6(t-1)</th>\n",
       "      <th>var7(t-1)</th>\n",
       "      <th>var8(t-1)</th>\n",
       "      <th>var9(t-1)</th>\n",
       "      <th>var1(t)</th>\n",
       "    </tr>\n",
       "  </thead>\n",
       "  <tbody>\n",
       "    <tr>\n",
       "      <th>3</th>\n",
       "      <td>0.193548</td>\n",
       "      <td>0.263393</td>\n",
       "      <td>0.452991</td>\n",
       "      <td>0.275071</td>\n",
       "      <td>0.841278</td>\n",
       "      <td>0.373362</td>\n",
       "      <td>0.330291</td>\n",
       "      <td>0.504003</td>\n",
       "      <td>0.446745</td>\n",
       "      <td>0.161290</td>\n",
       "      <td>...</td>\n",
       "      <td>0.169355</td>\n",
       "      <td>0.252232</td>\n",
       "      <td>0.577534</td>\n",
       "      <td>0.271332</td>\n",
       "      <td>0.791033</td>\n",
       "      <td>0.291757</td>\n",
       "      <td>0.332152</td>\n",
       "      <td>0.437630</td>\n",
       "      <td>0.371742</td>\n",
       "      <td>0.169355</td>\n",
       "    </tr>\n",
       "    <tr>\n",
       "      <th>4</th>\n",
       "      <td>0.161290</td>\n",
       "      <td>0.265625</td>\n",
       "      <td>0.444444</td>\n",
       "      <td>0.259177</td>\n",
       "      <td>0.740015</td>\n",
       "      <td>0.270401</td>\n",
       "      <td>0.392990</td>\n",
       "      <td>0.379940</td>\n",
       "      <td>0.326630</td>\n",
       "      <td>0.169355</td>\n",
       "      <td>...</td>\n",
       "      <td>0.169355</td>\n",
       "      <td>0.216518</td>\n",
       "      <td>0.653236</td>\n",
       "      <td>0.289292</td>\n",
       "      <td>0.782530</td>\n",
       "      <td>0.291447</td>\n",
       "      <td>0.351072</td>\n",
       "      <td>0.416621</td>\n",
       "      <td>0.433904</td>\n",
       "      <td>0.112903</td>\n",
       "    </tr>\n",
       "    <tr>\n",
       "      <th>5</th>\n",
       "      <td>0.169355</td>\n",
       "      <td>0.252232</td>\n",
       "      <td>0.577534</td>\n",
       "      <td>0.271332</td>\n",
       "      <td>0.791033</td>\n",
       "      <td>0.291757</td>\n",
       "      <td>0.332152</td>\n",
       "      <td>0.437630</td>\n",
       "      <td>0.371742</td>\n",
       "      <td>0.169355</td>\n",
       "      <td>...</td>\n",
       "      <td>0.112903</td>\n",
       "      <td>0.236607</td>\n",
       "      <td>0.611722</td>\n",
       "      <td>0.290326</td>\n",
       "      <td>0.734089</td>\n",
       "      <td>0.252089</td>\n",
       "      <td>0.385635</td>\n",
       "      <td>0.365369</td>\n",
       "      <td>0.378205</td>\n",
       "      <td>0.088710</td>\n",
       "    </tr>\n",
       "  </tbody>\n",
       "</table>\n",
       "<p>3 rows × 28 columns</p>\n",
       "</div>"
      ],
      "text/plain": [
       "   var1(t-3)  var2(t-3)  var3(t-3)  var4(t-3)  var5(t-3)  var6(t-3)  \\\n",
       "3   0.193548   0.263393   0.452991   0.275071   0.841278   0.373362   \n",
       "4   0.161290   0.265625   0.444444   0.259177   0.740015   0.270401   \n",
       "5   0.169355   0.252232   0.577534   0.271332   0.791033   0.291757   \n",
       "\n",
       "   var7(t-3)  var8(t-3)  var9(t-3)  var1(t-2)  ...  var1(t-1)  var2(t-1)  \\\n",
       "3   0.330291   0.504003   0.446745   0.161290  ...   0.169355   0.252232   \n",
       "4   0.392990   0.379940   0.326630   0.169355  ...   0.169355   0.216518   \n",
       "5   0.332152   0.437630   0.371742   0.169355  ...   0.112903   0.236607   \n",
       "\n",
       "   var3(t-1)  var4(t-1)  var5(t-1)  var6(t-1)  var7(t-1)  var8(t-1)  \\\n",
       "3   0.577534   0.271332   0.791033   0.291757   0.332152   0.437630   \n",
       "4   0.653236   0.289292   0.782530   0.291447   0.351072   0.416621   \n",
       "5   0.611722   0.290326   0.734089   0.252089   0.385635   0.365369   \n",
       "\n",
       "   var9(t-1)   var1(t)  \n",
       "3   0.371742  0.169355  \n",
       "4   0.433904  0.112903  \n",
       "5   0.378205  0.088710  \n",
       "\n",
       "[3 rows x 28 columns]"
      ]
     },
     "execution_count": 9,
     "metadata": {},
     "output_type": "execute_result"
    }
   ],
   "source": [
    "# drop columns we don't want to predict\n",
    "reframed.drop(['var2(t)', 'var3(t)', 'var4(t)', 'var5(t)', 'var6(t)', 'var7(t)', 'var8(t)', 'var9(t)'], axis=1, inplace=True)\n",
    "print(reframed.shape)\n",
    "reframed.head(3)"
   ]
  },
  {
   "cell_type": "code",
   "execution_count": 10,
   "metadata": {},
   "outputs": [],
   "source": [
    "#dataset.index.max() - dataset.index.min()\n",
    "#print(\"train:\", 296 * 0.8, \"days\", \"test:\", 296 * 0.2, \"days\")"
   ]
  },
  {
   "cell_type": "code",
   "execution_count": 11,
   "metadata": {},
   "outputs": [
    {
     "name": "stdout",
     "output_type": "stream",
     "text": [
      "(5664, 28) (1444, 28)\n"
     ]
    }
   ],
   "source": [
    "# split into train and test sets\n",
    "values = reframed.values\n",
    "n_train_hours = 236 * 24 # 80%\n",
    "train = values[:n_train_hours, :]\n",
    "test = values[n_train_hours:, :]\n",
    "\n",
    "print(train.shape, test.shape)"
   ]
  },
  {
   "cell_type": "code",
   "execution_count": 12,
   "metadata": {},
   "outputs": [
    {
     "data": {
      "text/plain": [
       "27"
      ]
     },
     "execution_count": 12,
     "metadata": {},
     "output_type": "execute_result"
    }
   ],
   "source": [
    "# split into input and outputs\n",
    "n_obs = n_hours * n_features\n",
    "n_obs"
   ]
  },
  {
   "cell_type": "code",
   "execution_count": 13,
   "metadata": {},
   "outputs": [
    {
     "name": "stdout",
     "output_type": "stream",
     "text": [
      "(5664, 27) (1444, 27) (5664,) (1444,)\n"
     ]
    }
   ],
   "source": [
    "train_X, train_y = train[:, :n_obs], train[:, n_obs]\n",
    "test_X, test_y = test[:, :n_obs], test[:, n_obs]\n",
    "print(train_X.shape, test_X.shape, train_y.shape, test_y.shape)"
   ]
  },
  {
   "cell_type": "code",
   "execution_count": 14,
   "metadata": {},
   "outputs": [
    {
     "name": "stdout",
     "output_type": "stream",
     "text": [
      "(5664, 3, 9) (5664,) (1444, 3, 9) (1444,)\n"
     ]
    }
   ],
   "source": [
    "# reshape input to be 3D [samples, timesteps, features]\n",
    "train_X = train_X.reshape((train_X.shape[0], n_hours, n_features))\n",
    "test_X = test_X.reshape((test_X.shape[0], n_hours, n_features))\n",
    "print(train_X.shape, train_y.shape, test_X.shape, test_y.shape)"
   ]
  },
  {
   "cell_type": "code",
   "execution_count": 15,
   "metadata": {},
   "outputs": [
    {
     "name": "stdout",
     "output_type": "stream",
     "text": [
      "Epoch 1/30\n",
      "79/79 - 20s - loss: 0.0397 - val_loss: 0.0232\n",
      "Epoch 2/30\n",
      "79/79 - 0s - loss: 0.0101 - val_loss: 0.0182\n",
      "Epoch 3/30\n",
      "79/79 - 0s - loss: 0.0081 - val_loss: 0.0142\n",
      "Epoch 4/30\n",
      "79/79 - 0s - loss: 0.0064 - val_loss: 0.0110\n",
      "Epoch 5/30\n",
      "79/79 - 0s - loss: 0.0053 - val_loss: 0.0090\n",
      "Epoch 6/30\n",
      "79/79 - 0s - loss: 0.0047 - val_loss: 0.0081\n",
      "Epoch 7/30\n",
      "79/79 - 0s - loss: 0.0044 - val_loss: 0.0076\n",
      "Epoch 8/30\n",
      "79/79 - 0s - loss: 0.0041 - val_loss: 0.0072\n",
      "Epoch 9/30\n",
      "79/79 - 0s - loss: 0.0038 - val_loss: 0.0068\n",
      "Epoch 10/30\n",
      "79/79 - 0s - loss: 0.0035 - val_loss: 0.0064\n",
      "Epoch 11/30\n",
      "79/79 - 0s - loss: 0.0032 - val_loss: 0.0061\n",
      "Epoch 12/30\n",
      "79/79 - 0s - loss: 0.0030 - val_loss: 0.0059\n",
      "Epoch 13/30\n",
      "79/79 - 0s - loss: 0.0028 - val_loss: 0.0057\n",
      "Epoch 14/30\n",
      "79/79 - 0s - loss: 0.0026 - val_loss: 0.0056\n",
      "Epoch 15/30\n",
      "79/79 - 0s - loss: 0.0025 - val_loss: 0.0055\n",
      "Epoch 16/30\n",
      "79/79 - 0s - loss: 0.0025 - val_loss: 0.0055\n",
      "Epoch 17/30\n",
      "79/79 - 0s - loss: 0.0024 - val_loss: 0.0054\n",
      "Epoch 18/30\n",
      "79/79 - 0s - loss: 0.0024 - val_loss: 0.0054\n",
      "Epoch 19/30\n",
      "79/79 - 0s - loss: 0.0023 - val_loss: 0.0053\n",
      "Epoch 20/30\n",
      "79/79 - 0s - loss: 0.0023 - val_loss: 0.0053\n",
      "Epoch 21/30\n",
      "79/79 - 0s - loss: 0.0023 - val_loss: 0.0053\n",
      "Epoch 22/30\n",
      "79/79 - 0s - loss: 0.0023 - val_loss: 0.0052\n",
      "Epoch 23/30\n",
      "79/79 - 0s - loss: 0.0023 - val_loss: 0.0052\n",
      "Epoch 24/30\n",
      "79/79 - 0s - loss: 0.0023 - val_loss: 0.0052\n",
      "Epoch 25/30\n",
      "79/79 - 0s - loss: 0.0023 - val_loss: 0.0051\n",
      "Epoch 26/30\n",
      "79/79 - 0s - loss: 0.0022 - val_loss: 0.0051\n",
      "Epoch 27/30\n",
      "79/79 - 0s - loss: 0.0022 - val_loss: 0.0051\n",
      "Epoch 28/30\n",
      "79/79 - 0s - loss: 0.0022 - val_loss: 0.0051\n",
      "Epoch 29/30\n",
      "79/79 - 0s - loss: 0.0022 - val_loss: 0.0050\n",
      "Epoch 30/30\n",
      "79/79 - 0s - loss: 0.0022 - val_loss: 0.0050\n"
     ]
    },
    {
     "data": {
      "image/png": "[encoded data removed]",
      "text/plain": [
       "<Figure size 432x288 with 1 Axes>"
      ]
     },
     "metadata": {
      "needs_background": "light"
     },
     "output_type": "display_data"
    }
   ],
   "source": [
    "# design network\n",
    "model = Sequential()\n",
    "model.add(LSTM(50, input_shape=(train_X.shape[1], train_X.shape[2])))\n",
    "model.add(Dense(1, activation='softplus'))\n",
    "model.compile(loss='msle', optimizer='adam')\n",
    "# fit network\n",
    "history = model.fit(train_X, train_y, epochs=30, batch_size=72,\n",
    "                    validation_data=(test_X, test_y), verbose=2, shuffle=False)\n",
    "# plot history\n",
    "pyplot.plot(history.history['loss'], label='train')\n",
    "pyplot.plot(history.history['val_loss'], label='test')\n",
    "pyplot.legend()\n",
    "pyplot.show()"
   ]
  },
  {
   "cell_type": "code",
   "execution_count": 16,
   "metadata": {},
   "outputs": [],
   "source": [
    "# make a prediction\n",
    "yhat = model.predict(test_X)\n",
    "test_X = test_X.reshape((test_X.shape[0], n_hours*n_features))"
   ]
  },
  {
   "cell_type": "code",
   "execution_count": 18,
   "metadata": {},
   "outputs": [],
   "source": [
    "# invert scaling for forecast\n",
    "inv_yhat = np.concatenate((yhat, test_X[:, -(n_features-1):]), axis=1)\n",
    "inv_yhat = scaler.inverse_transform(inv_yhat)\n",
    "inv_yhat = inv_yhat[:,0]"
   ]
  },
  {
   "cell_type": "code",
   "execution_count": 19,
   "metadata": {},
   "outputs": [],
   "source": [
    "# invert scaling for actual\n",
    "test_y = test_y.reshape((len(test_y), 1))\n",
    "inv_y = np.concatenate((test_y, test_X[:, -(n_features-1):]), axis=1)\n",
    "inv_y = scaler.inverse_transform(inv_y)\n",
    "inv_y = inv_y[:,0]"
   ]
  },
  {
   "cell_type": "code",
   "execution_count": 20,
   "metadata": {},
   "outputs": [
    {
     "name": "stdout",
     "output_type": "stream",
     "text": [
      "Test RMSLE: 0.284\n"
     ]
    }
   ],
   "source": [
    "# calculate RMSE\n",
    "rmse = np.sqrt(mean_squared_log_error(inv_y, inv_yhat))\n",
    "print('Test RMSLE: %.3f' % rmse)"
   ]
  }
 ],
 "metadata": {
  "kernelspec": {
   "display_name": "Python 3",
   "language": "python",
   "name": "python3"
  },
  "language_info": {
   "codemirror_mode": {
    "name": "ipython",
    "version": 3
   },
   "file_extension": ".py",
   "mimetype": "text/x-python",
   "name": "python",
   "nbconvert_exporter": "python",
   "pygments_lexer": "ipython3",
   "version": "3.8.3"
  }
 },
 "nbformat": 4,
 "nbformat_minor": 4
}
