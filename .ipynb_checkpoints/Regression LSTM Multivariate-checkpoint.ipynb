{
 "cells": [
  {
   "cell_type": "code",
   "execution_count": 1,
   "metadata": {},
   "outputs": [],
   "source": [
    "import pandas as pd\n",
    "import numpy as np\n",
    "\n",
    "import keras\n",
    "import tensorflow as tf\n",
    "from keras.models import Sequential\n",
    "from keras.layers import Dense\n",
    "from keras.layers import LSTM\n",
    "from keras.layers import BatchNormalization\n",
    "from keras.layers import Dropout\n",
    "from tensorflow.keras import callbacks\n",
    "\n",
    "from sklearn.metrics import mean_squared_log_error, mean_squared_error\n",
    "\n",
    "from sklearn.model_selection import TimeSeriesSplit\n",
    "#from sklearn.model_selection import KFold\n",
    "\n",
    "from sklearn.preprocessing import MinMaxScaler\n",
    "\n",
    "import matplotlib.pyplot as plt"
   ]
  },
  {
   "cell_type": "code",
   "execution_count": 2,
   "metadata": {},
   "outputs": [],
   "source": [
    "# to prepare data\n",
    "def prepare_data(x, to_remove=None):\n",
    "    x.date_time = pd.to_datetime(x['date_time'])\n",
    "    x = pd.concat([x.loc[:, ['target_carbon_monoxide', \n",
    "                             'target_benzene',\n",
    "                             'target_nitrogen_oxides']], \n",
    "                  x.iloc[:, :-3]], axis=1)\n",
    "    x = x.sort_values('date_time')\n",
    "    x = x.set_index('date_time')\n",
    "        \n",
    "    return x\n",
    "\n",
    "# convert series to supervised learning\n",
    "def series_to_supervised(data, n_in=1, n_out=1, dropnan=True):\n",
    "    n_vars = 1 if type(data) is list else data.shape[1]\n",
    "    df = pd.DataFrame(data)\n",
    "    cols, names = list(), list()\n",
    "    # input sequence (t-n, ... t-1)\n",
    "    for i in range(n_in, 0, -1):\n",
    "        cols.append(df.shift(i))\n",
    "        names += [('var%d(t-%d)' % (j+1, i)) for j in range(n_vars)]\n",
    "    # forecast sequence (t, t+1, ... t+n)\n",
    "    for i in range(0, n_out):\n",
    "        cols.append(df.shift(-i))\n",
    "        if i == 0:\n",
    "            names += [('var%d(t)' % (j+1)) for j in range(n_vars)]\n",
    "        else:\n",
    "            names += [('var%d(t+%d)' % (j+1, i)) for j in range(n_vars)]\n",
    "    # put it all together\n",
    "    agg = pd.concat(cols, axis=1)\n",
    "    agg.columns = names\n",
    "    # drop rows with NaN values\n",
    "    if dropnan:\n",
    "        agg.dropna(inplace=True)\n",
    "    return agg\n",
    "\n",
    "# loss function\n",
    "def rmsle(y_true, y_pred):\n",
    "    #y_pred = K.clip(y_pred, 1e-15, 1-1e-15)\n",
    "    loss = K.sqrt(msle(y_true, y_pred))\n",
    "    return loss"
   ]
  },
  {
   "cell_type": "code",
   "execution_count": 3,
   "metadata": {},
   "outputs": [],
   "source": [
    "train = pd.read_csv('train.csv')"
   ]
  },
  {
   "cell_type": "code",
   "execution_count": 4,
   "metadata": {},
   "outputs": [],
   "source": [
    "dataset = prepare_data(train)"
   ]
  },
  {
   "cell_type": "code",
   "execution_count": 5,
   "metadata": {},
   "outputs": [],
   "source": [
    "# specify the number of lag hours\n",
    "n_hours = 3\n",
    "n_features = 11"
   ]
  },
  {
   "cell_type": "code",
   "execution_count": 6,
   "metadata": {},
   "outputs": [],
   "source": [
    "# load dataset\n",
    "values = dataset.values.astype('float32')\n",
    "\n",
    "# normalize features\n",
    "scaler = MinMaxScaler(feature_range=(0, 1))\n",
    "scaled = scaler.fit_transform(values)\n",
    "\n",
    "# frame as supervised learning\n",
    "reframed = series_to_supervised(scaled, n_hours, 1)\n",
    "\n",
    "# drop columns we don't want to predict\n",
    "reframed = reframed.drop(['var4(t)', 'var5(t)', 'var6(t)', 'var7(t)',\n",
    "               'var8(t)', 'var9(t)', 'var10(t)', 'var11(t)'], axis=1)"
   ]
  },
  {
   "cell_type": "code",
   "execution_count": 7,
   "metadata": {},
   "outputs": [],
   "source": [
    "# split into train and test sets\n",
    "values = reframed.values\n",
    "n_train_hours = 236 * 24 # 80%\n",
    "train = values[:n_train_hours, :]\n",
    "test = values[n_train_hours:, :]"
   ]
  },
  {
   "cell_type": "code",
   "execution_count": 8,
   "metadata": {},
   "outputs": [
    {
     "data": {
      "text/plain": [
       "33"
      ]
     },
     "execution_count": 8,
     "metadata": {},
     "output_type": "execute_result"
    }
   ],
   "source": [
    "# split into input and outputs\n",
    "n_obs = n_hours * n_features\n",
    "n_obs"
   ]
  },
  {
   "cell_type": "code",
   "execution_count": 9,
   "metadata": {},
   "outputs": [
    {
     "name": "stdout",
     "output_type": "stream",
     "text": [
      "(5664, 33) (1444, 33) (5664, 3) (1444, 3)\n"
     ]
    }
   ],
   "source": [
    "train_X, train_y = train[:, :n_obs], train[:, [33, 34, 35]]\n",
    "test_X, test_y = test[:, :n_obs], test[:, [33, 34, 35]]\n",
    "print(train_X.shape, test_X.shape, train_y.shape, test_y.shape)"
   ]
  },
  {
   "cell_type": "code",
   "execution_count": 10,
   "metadata": {},
   "outputs": [
    {
     "name": "stdout",
     "output_type": "stream",
     "text": [
      "(5664, 3, 11) (5664, 3) (1444, 3, 11) (1444, 3)\n"
     ]
    }
   ],
   "source": [
    "# reshape input to be 3D [samples, timesteps, features]\n",
    "train_X = train_X.reshape((train_X.shape[0], n_hours, n_features))\n",
    "test_X = test_X.reshape((test_X.shape[0], n_hours, n_features))\n",
    "print(train_X.shape, train_y.shape, test_X.shape, test_y.shape)"
   ]
  },
  {
   "cell_type": "code",
   "execution_count": 11,
   "metadata": {},
   "outputs": [],
   "source": [
    "def get_model():\n",
    "    # design network\n",
    "    model = Sequential()\n",
    "#    model.add(LSTM(100, return_sequences=True, input_shape=(train_X.shape[1], train_X.shape[2])))\n",
    "    model.add(LSTM(100, input_shape=(train_X.shape[1], train_X.shape[2])))\n",
    "#    model.add(LSTM(50))\n",
    "    model.add(Dropout(0.3))\n",
    "    model.add(Dense(32, activation='relu'))\n",
    "    model.add(BatchNormalization())\n",
    "    model.add(Dropout(0.3))\n",
    "    model.add(Dense(3, activation='softplus'))\n",
    "    \n",
    "    return model"
   ]
  },
  {
   "cell_type": "code",
   "execution_count": 12,
   "metadata": {},
   "outputs": [],
   "source": [
    "keras.backend.clear_session()"
   ]
  },
  {
   "cell_type": "code",
   "execution_count": 13,
   "metadata": {},
   "outputs": [],
   "source": [
    "import tensorflow.keras.backend as K"
   ]
  },
  {
   "cell_type": "code",
   "execution_count": 14,
   "metadata": {},
   "outputs": [],
   "source": [
    "msle = tf.keras.losses.mean_squared_logarithmic_error\n",
    "\n",
    "early_stopping = callbacks.EarlyStopping(\n",
    "    patience=15,\n",
    "    min_delta=0.0000001,\n",
    "    restore_best_weights=True,\n",
    ")\n",
    "\n",
    "#New callback\n",
    "plateau = callbacks.ReduceLROnPlateau(\n",
    "    factor = 0.5,                                     \n",
    "    patience = 2,                                   \n",
    "    min_delt = 0.0000001,                                \n",
    "    cooldown = 0,                               \n",
    "    verbose = 1\n",
    ") "
   ]
  },
  {
   "cell_type": "code",
   "execution_count": 15,
   "metadata": {},
   "outputs": [
    {
     "name": "stdout",
     "output_type": "stream",
     "text": [
      "Epoch 1/100\n",
      "79/79 - 20s - loss: 0.4267 - val_loss: 0.3331\n",
      "Epoch 2/100\n",
      "79/79 - 0s - loss: 0.3848 - val_loss: 0.3125\n",
      "Epoch 3/100\n",
      "79/79 - 0s - loss: 0.3503 - val_loss: 0.2860\n",
      "Epoch 4/100\n",
      "79/79 - 0s - loss: 0.3177 - val_loss: 0.2574\n",
      "Epoch 5/100\n",
      "79/79 - 0s - loss: 0.2801 - val_loss: 0.2240\n",
      "Epoch 6/100\n",
      "79/79 - 0s - loss: 0.2388 - val_loss: 0.1871\n",
      "Epoch 7/100\n",
      "79/79 - 0s - loss: 0.1981 - val_loss: 0.1491\n",
      "Epoch 8/100\n",
      "79/79 - 0s - loss: 0.1624 - val_loss: 0.1233\n",
      "Epoch 9/100\n",
      "79/79 - 0s - loss: 0.1334 - val_loss: 0.1063\n",
      "Epoch 10/100\n",
      "79/79 - 0s - loss: 0.1112 - val_loss: 0.0976\n",
      "Epoch 11/100\n",
      "79/79 - 0s - loss: 0.0953 - val_loss: 0.0943\n",
      "Epoch 12/100\n",
      "79/79 - 0s - loss: 0.0851 - val_loss: 0.0942\n",
      "Epoch 13/100\n",
      "79/79 - 0s - loss: 0.0783 - val_loss: 0.0929\n",
      "Epoch 14/100\n",
      "79/79 - 0s - loss: 0.0734 - val_loss: 0.0967\n",
      "Epoch 15/100\n",
      "79/79 - 0s - loss: 0.0700 - val_loss: 0.0955\n",
      "\n",
      "Epoch 00015: ReduceLROnPlateau reducing learning rate to 9.999999747378752e-05.\n",
      "Epoch 16/100\n",
      "79/79 - 0s - loss: 0.0672 - val_loss: 0.0963\n",
      "Epoch 17/100\n",
      "79/79 - 0s - loss: 0.0663 - val_loss: 0.0959\n",
      "\n",
      "Epoch 00017: ReduceLROnPlateau reducing learning rate to 4.999999873689376e-05.\n",
      "Epoch 18/100\n",
      "79/79 - 0s - loss: 0.0653 - val_loss: 0.0952\n",
      "Epoch 19/100\n",
      "79/79 - 0s - loss: 0.0648 - val_loss: 0.0952\n",
      "\n",
      "Epoch 00019: ReduceLROnPlateau reducing learning rate to 2.499999936844688e-05.\n",
      "Epoch 20/100\n",
      "79/79 - 0s - loss: 0.0646 - val_loss: 0.0953\n",
      "Epoch 21/100\n",
      "79/79 - 0s - loss: 0.0639 - val_loss: 0.0953\n",
      "\n",
      "Epoch 00021: ReduceLROnPlateau reducing learning rate to 1.249999968422344e-05.\n",
      "Epoch 22/100\n",
      "79/79 - 0s - loss: 0.0642 - val_loss: 0.0953\n",
      "Epoch 23/100\n",
      "79/79 - 0s - loss: 0.0634 - val_loss: 0.0953\n",
      "\n",
      "Epoch 00023: ReduceLROnPlateau reducing learning rate to 6.24999984211172e-06.\n",
      "Epoch 24/100\n",
      "79/79 - 0s - loss: 0.0634 - val_loss: 0.0953\n",
      "Epoch 25/100\n",
      "79/79 - 0s - loss: 0.0637 - val_loss: 0.0953\n",
      "\n",
      "Epoch 00025: ReduceLROnPlateau reducing learning rate to 3.12499992105586e-06.\n",
      "Epoch 26/100\n",
      "79/79 - 0s - loss: 0.0632 - val_loss: 0.0953\n",
      "Epoch 27/100\n",
      "79/79 - 0s - loss: 0.0629 - val_loss: 0.0953\n",
      "\n",
      "Epoch 00027: ReduceLROnPlateau reducing learning rate to 1.56249996052793e-06.\n",
      "Epoch 28/100\n",
      "79/79 - 0s - loss: 0.0633 - val_loss: 0.0954\n"
     ]
    },
    {
     "data": {
      "image/png": "[encoded data removed]",
      "text/plain": [
       "<Figure size 432x288 with 1 Axes>"
      ]
     },
     "metadata": {
      "needs_background": "light"
     },
     "output_type": "display_data"
    }
   ],
   "source": [
    "model = get_model()\n",
    "\n",
    "model.compile(loss=rmsle,\n",
    "              optimizer = keras.optimizers.Adam(learning_rate=0.0002))\n",
    "# fit network\n",
    "history = model.fit(train_X, train_y,\n",
    "                    epochs=100, batch_size=72,\n",
    "                    validation_data=(test_X, test_y),\n",
    "                    verbose=2, shuffle=False,\n",
    "                    callbacks=[early_stopping, plateau])\n",
    "# plot history\n",
    "plt.plot(history.history['loss'], label='train')\n",
    "plt.plot(history.history['val_loss'], label='test')\n",
    "plt.legend()\n",
    "plt.show()"
   ]
  },
  {
   "cell_type": "code",
   "execution_count": 16,
   "metadata": {},
   "outputs": [],
   "source": [
    "# make a prediction\n",
    "yhat = model.predict(test_X)"
   ]
  },
  {
   "cell_type": "code",
   "execution_count": 17,
   "metadata": {},
   "outputs": [],
   "source": [
    "test_X = test_X.reshape((test_X.shape[0], n_hours*n_features))\n"
   ]
  },
  {
   "cell_type": "code",
   "execution_count": 18,
   "metadata": {},
   "outputs": [],
   "source": [
    "# invert scaling for forecast\n",
    "inv_yhat = np.concatenate((yhat, test_X[:, -(n_features-3):]), axis=1)\n",
    "inv_yhat = scaler.inverse_transform(inv_yhat)\n",
    "inv_yhat = inv_yhat[:,range(3)]"
   ]
  },
  {
   "cell_type": "code",
   "execution_count": 19,
   "metadata": {},
   "outputs": [],
   "source": [
    "# invert scaling for actual\n",
    "test_y = test_y.reshape((len(test_y), 3))\n",
    "inv_y = np.concatenate((test_y, test_X[:, -(n_features-3):]), axis=1)\n",
    "inv_y = scaler.inverse_transform(inv_y)\n",
    "inv_y = inv_y[:,range(3)]"
   ]
  },
  {
   "cell_type": "code",
   "execution_count": 20,
   "metadata": {},
   "outputs": [
    {
     "name": "stdout",
     "output_type": "stream",
     "text": [
      "Test RMSLE: 0.672\n"
     ]
    }
   ],
   "source": [
    "# calculate RMSE\n",
    "rmse = np.sqrt(mean_squared_log_error(inv_y, inv_yhat))\n",
    "print('Test RMSLE: %.3f' % rmse)"
   ]
  },
  {
   "cell_type": "code",
   "execution_count": 21,
   "metadata": {},
   "outputs": [
    {
     "data": {
      "text/plain": [
       "array([[  2.3158956,  12.344939 , 262.01154  ],\n",
       "       [  2.2894049,  12.167375 , 258.23157  ],\n",
       "       [  2.2733614,  12.06003  , 255.94672  ],\n",
       "       ...,\n",
       "       [  1.8225393,   9.110407 , 193.23279  ],\n",
       "       [  1.835737 ,   9.194758 , 195.02448  ],\n",
       "       [  1.8028823,   8.985019 , 190.56961  ]], dtype=float32)"
      ]
     },
     "execution_count": 21,
     "metadata": {},
     "output_type": "execute_result"
    }
   ],
   "source": [
    "inv_yhat"
   ]
  },
  {
   "cell_type": "code",
   "execution_count": null,
   "metadata": {
    "scrolled": false
   },
   "outputs": [],
   "source": [
    "for fold, (tr_idx, ts_idx) in enumerate(kfold.split(train)):\n",
    "    print(f\"\\n ====== TRAINING FOLD {fold} =======\\n\")\n"
   ]
  },
  {
   "cell_type": "code",
   "execution_count": null,
   "metadata": {},
   "outputs": [],
   "source": [
    "\n"
   ]
  },
  {
   "cell_type": "code",
   "execution_count": null,
   "metadata": {},
   "outputs": [],
   "source": [
    "tscv = TimeSeriesSplit(max_train_size=None, n_splits=10)\n",
    "\n",
    "\n",
    "for fold, (train_idx, test_idx) in enumerate(tscv.split(train)):\n",
    "    print(f\"\\n ====== TRAINING FOLD {fold} =======\\n\")\n",
    "    print(tr_idx, ts_idx)"
   ]
  },
  {
   "cell_type": "code",
   "execution_count": null,
   "metadata": {},
   "outputs": [],
   "source": []
  }
 ],
 "metadata": {
  "kernelspec": {
   "display_name": "Python 3",
   "language": "python",
   "name": "python3"
  },
  "language_info": {
   "codemirror_mode": {
    "name": "ipython",
    "version": 3
   },
   "file_extension": ".py",
   "mimetype": "text/x-python",
   "name": "python",
   "nbconvert_exporter": "python",
   "pygments_lexer": "ipython3",
   "version": "3.8.3"
  }
 },
 "nbformat": 4,
 "nbformat_minor": 4
}
